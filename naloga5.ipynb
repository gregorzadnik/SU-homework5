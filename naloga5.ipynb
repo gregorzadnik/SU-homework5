{
 "cells": [
  {
   "cell_type": "code",
   "execution_count": 93,
   "metadata": {},
   "outputs": [
    {
     "name": "stdout",
     "output_type": "stream",
     "text": [
      "Unexpected exception formatting exception. Falling back to standard exception\n"
     ]
    },
    {
     "name": "stderr",
     "output_type": "stream",
     "text": [
      "Traceback (most recent call last):\n",
      "  File \"C:\\Users\\gregorzadnik\\AppData\\Roaming\\Python\\Python39\\site-packages\\IPython\\core\\interactiveshell.py\", line 3433, in run_code\n",
      "    exec(code_obj, self.user_global_ns, self.user_ns)\n",
      "  File \"C:\\Users\\gregorzadnik\\AppData\\Local\\Temp\\ipykernel_14500\\3577771154.py\", line 10, in <module>\n",
      "    import lightgbm as lgb\n",
      "  File \"c:\\Python39\\lib\\site-packages\\lightgbm\\__init__.py\", line 8, in <module>\n",
      "    from .basic import Booster, Dataset, Sequence, register_logger\n",
      "  File \"c:\\Python39\\lib\\site-packages\\lightgbm\\basic.py\", line 21, in <module>\n",
      "    from .compat import PANDAS_INSTALLED, concat, dt_DataTable, pd_CategoricalDtype, pd_DataFrame, pd_Series\n",
      "  File \"c:\\Python39\\lib\\site-packages\\lightgbm\\compat.py\", line 141, in <module>\n",
      "    from dask import delayed\n",
      "  File \"C:\\Users\\gregorzadnik\\AppData\\Roaming\\Python\\Python39\\site-packages\\dask\\__init__.py\", line 8, in <module>\n",
      "    from .delayed import delayed\n",
      "  File \"C:\\Users\\gregorzadnik\\AppData\\Roaming\\Python\\Python39\\site-packages\\dask\\delayed.py\", line 13, in <module>\n",
      "    from .base import is_dask_collection, dont_optimize, DaskMethodsMixin\n",
      "  File \"C:\\Users\\gregorzadnik\\AppData\\Roaming\\Python\\Python39\\site-packages\\dask\\base.py\", line 805, in <module>\n",
      "    from dask import multiprocessing as dask_multiprocessing\n",
      "  File \"C:\\Users\\gregorzadnik\\AppData\\Roaming\\Python\\Python39\\site-packages\\dask\\multiprocessing.py\", line 9, in <module>\n",
      "    import cloudpickle\n",
      "  File \"c:\\Python39\\lib\\site-packages\\cloudpickle\\__init__.py\", line 3, in <module>\n",
      "    from cloudpickle.cloudpickle import *\n",
      "  File \"c:\\Python39\\lib\\site-packages\\cloudpickle\\cloudpickle.py\", line 167, in <module>\n",
      "    _cell_set_template_code = _make_cell_set_template_code()\n",
      "  File \"c:\\Python39\\lib\\site-packages\\cloudpickle\\cloudpickle.py\", line 148, in _make_cell_set_template_code\n",
      "    return types.CodeType(\n",
      "TypeError: an integer is required (got type bytes)\n",
      "\n",
      "During handling of the above exception, another exception occurred:\n",
      "\n",
      "Traceback (most recent call last):\n",
      "  File \"C:\\Users\\gregorzadnik\\AppData\\Roaming\\Python\\Python39\\site-packages\\IPython\\core\\interactiveshell.py\", line 2052, in showtraceback\n",
      "    stb = self.InteractiveTB.structured_traceback(\n",
      "  File \"C:\\Users\\gregorzadnik\\AppData\\Roaming\\Python\\Python39\\site-packages\\IPython\\core\\ultratb.py\", line 1112, in structured_traceback\n",
      "    return FormattedTB.structured_traceback(\n",
      "  File \"C:\\Users\\gregorzadnik\\AppData\\Roaming\\Python\\Python39\\site-packages\\IPython\\core\\ultratb.py\", line 1006, in structured_traceback\n",
      "    return VerboseTB.structured_traceback(\n",
      "  File \"C:\\Users\\gregorzadnik\\AppData\\Roaming\\Python\\Python39\\site-packages\\IPython\\core\\ultratb.py\", line 859, in structured_traceback\n",
      "    formatted_exception = self.format_exception_as_a_whole(etype, evalue, etb, number_of_lines_of_context,\n",
      "  File \"C:\\Users\\gregorzadnik\\AppData\\Roaming\\Python\\Python39\\site-packages\\IPython\\core\\ultratb.py\", line 812, in format_exception_as_a_whole\n",
      "    frames.append(self.format_record(r))\n",
      "  File \"C:\\Users\\gregorzadnik\\AppData\\Roaming\\Python\\Python39\\site-packages\\IPython\\core\\ultratb.py\", line 730, in format_record\n",
      "    result += ''.join(_format_traceback_lines(frame_info.lines, Colors, self.has_colors, lvals))\n",
      "  File \"C:\\Users\\gregorzadnik\\AppData\\Roaming\\Python\\Python39\\site-packages\\stack_data\\utils.py\", line 144, in cached_property_wrapper\n",
      "    value = obj.__dict__[self.func.__name__] = self.func(obj)\n",
      "  File \"C:\\Users\\gregorzadnik\\AppData\\Roaming\\Python\\Python39\\site-packages\\stack_data\\core.py\", line 720, in lines\n",
      "    pieces = self.included_pieces\n",
      "  File \"C:\\Users\\gregorzadnik\\AppData\\Roaming\\Python\\Python39\\site-packages\\stack_data\\utils.py\", line 144, in cached_property_wrapper\n",
      "    value = obj.__dict__[self.func.__name__] = self.func(obj)\n",
      "  File \"C:\\Users\\gregorzadnik\\AppData\\Roaming\\Python\\Python39\\site-packages\\stack_data\\core.py\", line 663, in included_pieces\n",
      "    scope_pieces = self.scope_pieces\n",
      "  File \"C:\\Users\\gregorzadnik\\AppData\\Roaming\\Python\\Python39\\site-packages\\stack_data\\utils.py\", line 144, in cached_property_wrapper\n",
      "    value = obj.__dict__[self.func.__name__] = self.func(obj)\n",
      "  File \"C:\\Users\\gregorzadnik\\AppData\\Roaming\\Python\\Python39\\site-packages\\stack_data\\core.py\", line 600, in scope_pieces\n",
      "    scope_start, scope_end = self.source.line_range(self.scope)\n",
      "  File \"C:\\Users\\gregorzadnik\\AppData\\Roaming\\Python\\Python39\\site-packages\\stack_data\\core.py\", line 164, in line_range\n",
      "    return line_range(self.asttext(), node)\n",
      "  File \"C:\\Users\\gregorzadnik\\AppData\\Roaming\\Python\\Python39\\site-packages\\executing\\executing.py\", line 428, in asttext\n",
      "    self._asttext = ASTText(self.text, tree=self.tree, filename=self.filename)\n",
      "  File \"C:\\Users\\gregorzadnik\\AppData\\Roaming\\Python\\Python39\\site-packages\\asttokens\\asttokens.py\", line 307, in __init__\n",
      "    super(ASTText, self).__init__(source_text, filename)\n",
      "  File \"C:\\Users\\gregorzadnik\\AppData\\Roaming\\Python\\Python39\\site-packages\\asttokens\\asttokens.py\", line 44, in __init__\n",
      "    source_text = six.ensure_text(source_text)\n",
      "AttributeError: module 'six' has no attribute 'ensure_text'\n"
     ]
    }
   ],
   "source": [
    "import numpy as np\n",
    "import pandas as pd\n",
    "from sklearn.datasets import load_iris\n",
    "from sklearn.tree import DecisionTreeClassifier, DecisionTreeRegressor\n",
    "from sklearn.metrics import accuracy_score, mean_squared_error\n",
    "from sklearn.ensemble import GradientBoostingClassifier\n",
    "from sklearn.model_selection import train_test_split\n",
    "import matplotlib.pyplot as plt\n",
    "import xgboost as xgb\n",
    "import lightgbm as lgb\n",
    "import catboost as cb\n"
   ]
  },
  {
   "cell_type": "code",
   "execution_count": 52,
   "metadata": {},
   "outputs": [],
   "source": [
    "def prepare_data(path):\n",
    "    data = pd.read_csv(path)\n",
    "    data.drop(columns=data.columns[0], axis=1, inplace=True)\n",
    "    data.set_index(\"X\", inplace=True)\n",
    "    data = pd.get_dummies(data,columns=['alcohol_level'], drop_first=True)\n",
    "    data.index.name = None\n",
    "    y = data['quality']\n",
    "    X = data.drop(columns='quality')\n",
    "    y = np.where(y == 'high', 1, 0)\n",
    "    return X, y"
   ]
  },
  {
   "cell_type": "code",
   "execution_count": 81,
   "metadata": {},
   "outputs": [],
   "source": [
    "class MyGradientBoostingClassifier:\n",
    "    def __init__(self, n_estimators=100, learning_rate=0.1, max_depth=3, epsilon=0.001):\n",
    "        self.n_estimators = n_estimators\n",
    "        self.learning_rate = learning_rate\n",
    "        self.max_depth = max_depth\n",
    "        self.epsilon = epsilon\n",
    "        self.models = []\n",
    "        self.mse = []\n",
    "\n",
    "    def calc_probability(self, y):\n",
    "        log = np.log(sum(y)/(len(y)-sum(y)))\n",
    "        return np.exp(log)/(1+np.exp(log))\n",
    "\n",
    "    def fit(self, X, y):\n",
    "        # Initialize with the log(odds)\n",
    "        initial_prediction = self.calc_probability(y)\n",
    "        # Make initial prediction\n",
    "        predictions = np.full_like(y, initial_prediction, dtype=float)\n",
    "\n",
    "        for i in range(self.n_estimators):\n",
    "            error = mean_squared_error(y, predictions)\n",
    "            if len(self.mse) > 5 and np.abs(self.mse[len(self.mse)-2]-error) < self.epsilon:\n",
    "                print(f\"Overfitting, stopping the fit at {len(self.mse)} trees!\")\n",
    "                break\n",
    "            self.mse.append(error)\n",
    "            residuals = y - predictions\n",
    "            # Fit a weak learner to the negative gradient (residuals)\n",
    "            model = DecisionTreeRegressor(max_depth=self.max_depth)\n",
    "            model.fit(X, residuals)\n",
    "            # Make predictions with the weak learner\n",
    "            weak_learner_predictions = model.predict(X)\n",
    "            # Update the ensemble's predictions with a fraction of the weak learner's predictions\n",
    "            predictions += self.learning_rate * weak_learner_predictions\n",
    "            # Save the weak learner in the ensemble\n",
    "            self.models.append(model)\n",
    "\n",
    "    def predict(self, X):\n",
    "        # For classification problems, initialize with the log(odds) or probability\n",
    "        #predictions = np.full(X.shape[0], np.mean([model.tree_.value.max() for model in self.models]))\n",
    "        predictions = np.full(X.shape[0], self.calc_probability([model.tree_.value.max() for model in self.models]))\n",
    "        #print(predictions)\n",
    "        # Accumulate predictions from each weak learner\n",
    "        for model in self.models:\n",
    "            weak_learner_predictions = model.predict(X)\n",
    "            predictions += self.learning_rate * weak_learner_predictions\n",
    "        # Convert to binary predictions for classification problems\n",
    "        #print(predictions)\n",
    "        binary_predictions = np.where(predictions >= 0.5, 1, 0)\n",
    "        return binary_predictions"
   ]
  },
  {
   "cell_type": "code",
   "execution_count": 64,
   "metadata": {},
   "outputs": [],
   "source": [
    "#Prepare the data\n",
    "X, y = prepare_data(\"wine_quality.csv\")\n",
    "# Split the data into training and testing sets\n",
    "X_train, X_test, y_train, y_test = train_test_split(X, y, test_size=0.3, random_state=42)"
   ]
  },
  {
   "cell_type": "code",
   "execution_count": 74,
   "metadata": {},
   "outputs": [
    {
     "name": "stdout",
     "output_type": "stream",
     "text": [
      "Trying out different learning rates\n",
      "Learning rate: 1e-05, Accuracy: 0.7761904761904762\n",
      "Learning rate: 0.0001, Accuracy: 0.7761904761904762\n",
      "Learning rate: 0.001, Accuracy: 0.7761904761904762\n",
      "Learning rate: 0.1, Accuracy: 0.7925170068027211\n",
      "Learning rate: 0.3, Accuracy: 0.789795918367347\n",
      "Learning rate: 0.5, Accuracy: 0.8285714285714286\n",
      "Learning rate: 0.7, Accuracy: 0.827891156462585\n",
      "Learning rate: 0.85, Accuracy: 0.8068027210884354\n",
      "Learning rate: 1, Accuracy: 0.7836734693877551\n",
      "Learning rate: 10, Accuracy: 0.7761904761904762\n"
     ]
    },
    {
     "name": "stderr",
     "output_type": "stream",
     "text": [
      "C:\\Users\\gregorzadnik\\AppData\\Local\\Temp\\ipykernel_14500\\193502162.py:10: RuntimeWarning: invalid value encountered in log\n",
      "  log = np.log(sum(y)/(len(y)-sum(y)))\n"
     ]
    }
   ],
   "source": [
    "print(\"Trying out different learning rates\")\n",
    "alphas = [0.00001, 0.0001, 0.001, 0.1, 0.3, 0.5, 0.7, 0.85, 1, 10]\n",
    "for alpha in alphas:\n",
    "    model = MyGradientBoostingClassifier(n_estimators=100, learning_rate=alpha)\n",
    "    model.fit(X_train, y_train)\n",
    "    y_pred = model.predict(X_test)\n",
    "    accuracy = accuracy_score(y_test, y_pred)\n",
    "    print(f\"Learning rate: {alpha}, Accuracy: {accuracy}\")\n",
    "    #plt.plot(range(len(model.mse)), model.mse)\n",
    "print(\"A good learning rate is 0.5\")"
   ]
  },
  {
   "cell_type": "code",
   "execution_count": 87,
   "metadata": {},
   "outputs": [
    {
     "name": "stdout",
     "output_type": "stream",
     "text": [
      "Testing different numbers of trees\n",
      "Number of trees: 1, Accuracy: 0.7952380952380952\n",
      "Number of trees: 20, Accuracy: 0.717687074829932\n",
      "Number of trees: 50, Accuracy: 0.791156462585034\n",
      "Number of trees: 100, Accuracy: 0.8285714285714286\n",
      "Number of trees: 200, Accuracy: 0.8496598639455782\n",
      "Number of trees: 400, Accuracy: 0.8612244897959184\n",
      "Overfitting, stopping the fit at 588 trees!\n",
      "Number of trees: 600, Accuracy: 0.8646258503401361\n",
      "Overfitting, stopping the fit at 588 trees!\n",
      "Number of trees: 800, Accuracy: 0.8659863945578231\n",
      "Overfitting, stopping the fit at 588 trees!\n",
      "Number of trees: 1000, Accuracy: 0.8653061224489796\n",
      "Overfitting, stopping the fit at 588 trees!\n",
      "Number of trees: 1500, Accuracy: 0.8659863945578231\n",
      "Overfitting, stopping the fit at 588 trees!\n",
      "Number of trees: 3000, Accuracy: 0.8646258503401361\n",
      "The model started overfitting at around 700 trees. I prevented it by implementing an epsilon. When the loss function change in two iterations is below this epsilon, the fitting stops.\n"
     ]
    }
   ],
   "source": [
    "print(\"Testing different numbers of trees\")\n",
    "alphas = [1, 20, 50, 100, 200, 400, 600, 800, 1000, 1500, 3000]\n",
    "for alpha in alphas:\n",
    "    model = MyGradientBoostingClassifier(n_estimators=alpha, learning_rate=0.5, epsilon=0.00001)\n",
    "    model.fit(X_train, y_train)\n",
    "    y_pred = model.predict(X_test)\n",
    "    accuracy = accuracy_score(y_test, y_pred)\n",
    "    print(f\"Number of trees: {alpha}, Accuracy: {accuracy}\")\n",
    "    #plt.plot(range(len(model.mse)), model.mse)\n",
    "\n",
    "print(\"The model started overfitting at around 700 trees. I prevented it by implementing an epsilon. When the loss function change in two iterations is below this epsilon, the fitting stops.\")"
   ]
  },
  {
   "cell_type": "code",
   "execution_count": 89,
   "metadata": {},
   "outputs": [
    {
     "name": "stdout",
     "output_type": "stream",
     "text": [
      "Comparing my classifier and scikit-learn's\n",
      "My accuracy: 0.8646258503401361\n",
      "SK accuracy: 0.8625850340136054\n"
     ]
    }
   ],
   "source": [
    "print(\"Comparing my classifier and scikit-learn's\")\n",
    "my_model = MyGradientBoostingClassifier(n_estimators=400, max_depth=3, learning_rate=0.5, epsilon=0.00001)\n",
    "my_model.fit(X_train, y_train)\n",
    "y_pred = my_model.predict(X_test)\n",
    "my_accuracy = accuracy_score(y_test, y_pred)\n",
    "print(f\"My accuracy: {accuracy}\")\n",
    "sk_gb = GradientBoostingClassifier(n_estimators=400, max_depth=3, learning_rate=0.5)\n",
    "sk_gb.fit(X_train, y_train)\n",
    "y_pred = sk_gb.predict(X_test)\n",
    "sk_acc = accuracy_score(y_test, y_pred)\n",
    "print(f\"SK accuracy: {sk_acc}\")\n"
   ]
  },
  {
   "cell_type": "code",
   "execution_count": 46,
   "metadata": {},
   "outputs": [
    {
     "data": {
      "text/plain": [
       "0.37405771332259113"
      ]
     },
     "execution_count": 46,
     "metadata": {},
     "output_type": "execute_result"
    }
   ],
   "source": [
    "print(\"Comparing XGBoost, LightGBM and CatBoost\")\n",
    "# XGBoost\n",
    "xgb_classifier = xgb.XGBClassifier(n_estimators=100, learning_rate=0.1, max_depth=3)\n",
    "xgb_classifier.fit(X_train, y_train)\n",
    "y_pred_xgb = xgb_classifier.predict(X_test)\n",
    "accuracy_xgb = accuracy_score(y_test, y_pred_xgb)\n",
    "print(f\"XGBoost Accuracy: {accuracy_xgb}\")\n",
    "\n",
    "# LightGBM\n",
    "lgb_classifier = lgb.LGBMClassifier(n_estimators=100, learning_rate=0.1, max_depth=3)\n",
    "lgb_classifier.fit(X_train, y_train)\n",
    "y_pred_lgb = lgb_classifier.predict(X_test)\n",
    "accuracy_lgb = accuracy_score(y_test, y_pred_lgb)\n",
    "print(f\"LightGBM Accuracy: {accuracy_lgb}\")\n",
    "\n",
    "# CatBoost\n",
    "cb_classifier = cb.CatBoostClassifier(iterations=100, learning_rate=0.1, depth=3)\n",
    "cb_classifier.fit(X_train, y_train)\n",
    "y_pred_cb = cb_classifier.predict(X_test)\n",
    "accuracy_cb = accuracy_score(y_test, y_pred_cb)\n",
    "print(f\"CatBoost Accuracy: {accuracy_cb}\")"
   ]
  }
 ],
 "metadata": {
  "kernelspec": {
   "display_name": "Python 3",
   "language": "python",
   "name": "python3"
  },
  "language_info": {
   "codemirror_mode": {
    "name": "ipython",
    "version": 3
   },
   "file_extension": ".py",
   "mimetype": "text/x-python",
   "name": "python",
   "nbconvert_exporter": "python",
   "pygments_lexer": "ipython3",
   "version": "3.9.1"
  }
 },
 "nbformat": 4,
 "nbformat_minor": 2
}
